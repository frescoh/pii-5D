{
  "nbformat": 4,
  "nbformat_minor": 0,
  "metadata": {
    "colab": {
      "provenance": [],
      "authorship_tag": "ABX9TyM4WJMHS1PNp1V424j9JqF2",
      "include_colab_link": true
    },
    "kernelspec": {
      "name": "python3",
      "display_name": "Python 3"
    },
    "language_info": {
      "name": "python"
    }
  },
  "cells": [
    {
      "cell_type": "markdown",
      "metadata": {
        "id": "view-in-github",
        "colab_type": "text"
      },
      "source": [
        "<a href=\"https://colab.research.google.com/github/frescoh/pii-5D/blob/main/pruebaMD.ipynb\" target=\"_parent\"><img src=\"https://colab.research.google.com/assets/colab-badge.svg\" alt=\"Open In Colab\"/></a>"
      ]
    },
    {
      "cell_type": "code",
      "execution_count": null,
      "metadata": {
        "id": "CszWbDIugQes"
      },
      "outputs": [],
      "source": []
    },
    {
      "cell_type": "markdown",
      "source": [
        "# Titulo H1\n",
        "## Titulo H2\n",
        "\n",
        "### Lista numerada\n",
        "1. item 1\n",
        "2. item 2\n",
        "8. item3\n",
        "\n",
        "### Lista no numerada\n",
        "- item1\n",
        "- item 2\n",
        "  - item 2.1\n",
        "\n",
        "* item a\n",
        "* item b\n",
        "\n",
        "---\n",
        "\n",
        "| titulo 1 | titulo 2|\n",
        "| :-: | --- |\n",
        "| algo | algo2 |\n",
        "\n"
      ],
      "metadata": {
        "id": "aVzv6f2MgWOh"
      }
    },
    {
      "cell_type": "markdown",
      "source": [
        "\n",
        "\n",
        "```python\n",
        "c = input(\"Ingrese c\")\n",
        "```\n",
        "[texto del vínculo](https://google.com)\n",
        "![](https://www.lavanguardia.com/files/image_948_465/files/fp/uploads/2024/02/29/65e0a25a86bd5.r_d.1686-1147-2230.jpeg)\n"
      ],
      "metadata": {
        "id": "F5C5I7d4hYDP"
      }
    }
  ]
}